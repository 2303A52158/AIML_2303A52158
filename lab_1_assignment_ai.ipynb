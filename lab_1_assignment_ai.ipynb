{
  "nbformat": 4,
  "nbformat_minor": 0,
  "metadata": {
    "colab": {
      "provenance": [],
      "authorship_tag": "ABX9TyNilHwEkRRUjLSPI5qQznPU",
      "include_colab_link": true
    },
    "kernelspec": {
      "name": "python3",
      "display_name": "Python 3"
    },
    "language_info": {
      "name": "python"
    }
  },
  "cells": [
    {
      "cell_type": "markdown",
      "metadata": {
        "id": "view-in-github",
        "colab_type": "text"
      },
      "source": [
        "<a href=\"https://colab.research.google.com/github/2303A52158/AIML_2303A52158/blob/main/lab_1_assignment_ai.ipynb\" target=\"_parent\"><img src=\"https://colab.research.google.com/assets/colab-badge.svg\" alt=\"Open In Colab\"/></a>"
      ]
    },
    {
      "cell_type": "markdown",
      "source": [
        "Part 1 – Implement Basic Data Structures using Numpy, Pandas\n",
        "\n",
        "Lists\n",
        "Arrays\n",
        "Identify their type using type()\n",
        "Perform mathematical operations on these datasets created - multiplication, division, poweroff\n",
        "Combine text with Numpy fuction to generate a textual output - ”Addition of Two: array1 +array 2\n",
        "Implement np.sin(), log(), log2(), np.exp())"
      ],
      "metadata": {
        "id": "Cu6RpEerMVlD"
      }
    },
    {
      "cell_type": "code",
      "execution_count": null,
      "metadata": {
        "colab": {
          "base_uri": "https://localhost:8080/"
        },
        "id": "nUZmLrep8cYA",
        "outputId": "a402f2b0-e023-408e-a92b-3b8e81430f13"
      },
      "outputs": [
        {
          "output_type": "execute_result",
          "data": {
            "text/plain": [
              "array([1, 2, 3])"
            ]
          },
          "metadata": {},
          "execution_count": 2
        }
      ],
      "source": [
        "import numpy as np\n",
        "lst1=[1,2,3]\n",
        "array1 = np.array(lst1)\n",
        "array1"
      ]
    },
    {
      "cell_type": "code",
      "source": [
        "type(lst1)"
      ],
      "metadata": {
        "colab": {
          "base_uri": "https://localhost:8080/"
        },
        "id": "X7B58OytBbAU",
        "outputId": "f04f4082-47d4-4573-b8fe-53d25e25e0ca"
      },
      "execution_count": null,
      "outputs": [
        {
          "output_type": "execute_result",
          "data": {
            "text/plain": [
              "list"
            ]
          },
          "metadata": {},
          "execution_count": 4
        }
      ]
    },
    {
      "cell_type": "markdown",
      "source": [],
      "metadata": {
        "id": "nRh_rC75MUmv"
      }
    },
    {
      "cell_type": "markdown",
      "source": [
        "Part 1 – Implement Basic Data Structures using Numpy, Pandas\n",
        "1. Lists\n",
        "2. Arrays\n",
        "3. Identify their type using type()\n",
        "4. Perform mathematical operations on these datasets created - multiplication, division,\n",
        "poweroff\n",
        "5. Combine text with Numpy fuction to generate a textual output - ”Addition of Two:\n",
        "array1 +array 2\n",
        "6. Implement np.sin(), log(), log2(), np.exp())"
      ],
      "metadata": {
        "id": "JytnnmFLMKAH"
      }
    },
    {
      "cell_type": "code",
      "source": [],
      "metadata": {
        "id": "U6QAtapLMOfh"
      },
      "execution_count": null,
      "outputs": []
    },
    {
      "cell_type": "code",
      "source": [
        "type(array1)"
      ],
      "metadata": {
        "colab": {
          "base_uri": "https://localhost:8080/"
        },
        "id": "JTwT0Ak6BiM3",
        "outputId": "ead8170c-cbfe-44d8-e226-9cd4574e43ee"
      },
      "execution_count": null,
      "outputs": [
        {
          "output_type": "execute_result",
          "data": {
            "text/plain": [
              "numpy.ndarray"
            ]
          },
          "metadata": {},
          "execution_count": 9
        }
      ]
    },
    {
      "cell_type": "code",
      "source": [
        "import numpy as np\n",
        "list2=[3,4,5]\n",
        "array2=np.array(list2)\n",
        "array2"
      ],
      "metadata": {
        "colab": {
          "base_uri": "https://localhost:8080/"
        },
        "id": "O9WXZXrNB4Bu",
        "outputId": "ffe92b86-104a-423a-a068-648ab26efe18"
      },
      "execution_count": null,
      "outputs": [
        {
          "output_type": "execute_result",
          "data": {
            "text/plain": [
              "array([3, 4, 5])"
            ]
          },
          "metadata": {},
          "execution_count": 12
        }
      ]
    },
    {
      "cell_type": "code",
      "source": [
        "type(list2)"
      ],
      "metadata": {
        "colab": {
          "base_uri": "https://localhost:8080/"
        },
        "id": "ppDgtrCmCQ8G",
        "outputId": "25aeefda-eb20-4ae4-ca78-d59bfaa5fc84"
      },
      "execution_count": null,
      "outputs": [
        {
          "output_type": "execute_result",
          "data": {
            "text/plain": [
              "list"
            ]
          },
          "metadata": {},
          "execution_count": 14
        }
      ]
    },
    {
      "cell_type": "code",
      "source": [
        "type(array2)"
      ],
      "metadata": {
        "colab": {
          "base_uri": "https://localhost:8080/"
        },
        "id": "nJHGP1HlCX9m",
        "outputId": "e3c96de6-1c58-4837-f100-e3f2259ee949"
      },
      "execution_count": null,
      "outputs": [
        {
          "output_type": "execute_result",
          "data": {
            "text/plain": [
              "numpy.ndarray"
            ]
          },
          "metadata": {},
          "execution_count": 16
        }
      ]
    },
    {
      "cell_type": "code",
      "source": [
        "print(\"array2 multiplied by array1: \",array1*array2)\n",
        "print(\"array2 divided by array1: \",array2/array1)\n",
        "print(\"array2 raised to the power of array1: \",array2**array1)"
      ],
      "metadata": {
        "colab": {
          "base_uri": "https://localhost:8080/"
        },
        "id": "UWY8LoLLCfqa",
        "outputId": "9810d5fe-6561-4262-f381-2608bb7dd70c"
      },
      "execution_count": null,
      "outputs": [
        {
          "output_type": "stream",
          "name": "stdout",
          "text": [
            "array2 multiplied by array1:  [ 3  8 15]\n",
            "array2 divided by array1:  [3.         2.         1.66666667]\n",
            "array2 raised to the power of array1:  [  3  16 125]\n"
          ]
        }
      ]
    },
    {
      "cell_type": "code",
      "source": [
        "# sine function\n",
        "print(\"Sine: \",np.sin(array1))\n",
        "# logarithm\n",
        "print(\"Natural logarithm: \",np.log(array1))\n",
        "print(\"Base-10 logarithm: \",np.log10(array1))\n",
        "print(\"Base-2 logarithm: \",np.log2(array1))\n",
        "# Exponential\n",
        "print(\"Exponential: \",np.exp(array1))"
      ],
      "metadata": {
        "colab": {
          "base_uri": "https://localhost:8080/"
        },
        "id": "ELYMvxJoC5Ic",
        "outputId": "bbf6641c-03bb-4901-e3b2-70abcf1314f6"
      },
      "execution_count": null,
      "outputs": [
        {
          "output_type": "stream",
          "name": "stdout",
          "text": [
            "Sine:  [0.84147098 0.90929743 0.14112001]\n",
            "Natural logarithm:  [0.         0.69314718 1.09861229]\n",
            "Base-10 logarithm:  [0.         0.30103    0.47712125]\n",
            "Base-2 logarithm:  [0.        1.        1.5849625]\n",
            "Exponential:  [ 2.71828183  7.3890561  20.08553692]\n"
          ]
        }
      ]
    },
    {
      "cell_type": "code",
      "source": [
        "list2=[3,2,1]\n",
        "array2=np.array(list2)\n",
        "array2"
      ],
      "metadata": {
        "colab": {
          "base_uri": "https://localhost:8080/"
        },
        "id": "pjp1FnP3DBDn",
        "outputId": "d73d512f-82c5-41cf-9639-22ecfd7dcae3"
      },
      "execution_count": null,
      "outputs": [
        {
          "output_type": "execute_result",
          "data": {
            "text/plain": [
              "array([3, 2, 1])"
            ]
          },
          "metadata": {},
          "execution_count": 22
        }
      ]
    },
    {
      "cell_type": "code",
      "source": [
        "print(\"Adding two numpy arrays {array1} and {array2} together:\", array1+array2)"
      ],
      "metadata": {
        "colab": {
          "base_uri": "https://localhost:8080/"
        },
        "id": "BotKdZXvDSKN",
        "outputId": "5c9a7e49-0565-4c8a-c2bb-70f0b88923cb"
      },
      "execution_count": null,
      "outputs": [
        {
          "output_type": "stream",
          "name": "stdout",
          "text": [
            "Adding two numpy arrays {array1} and {array2} together: [4 4 4]\n"
          ]
        }
      ]
    },
    {
      "cell_type": "code",
      "source": [
        "print(f\"Adding two numpy arrays {array1} and {array2} together: {array1+array2}\")"
      ],
      "metadata": {
        "colab": {
          "base_uri": "https://localhost:8080/"
        },
        "id": "jwVQKoqjDUNe",
        "outputId": "915a38f4-d501-4bc8-dbab-970f05c0793c"
      },
      "execution_count": null,
      "outputs": [
        {
          "output_type": "stream",
          "name": "stdout",
          "text": [
            "Adding two numpy arrays [1 2 3] and [3 2 1] together: [4 4 4]\n"
          ]
        }
      ]
    },
    {
      "cell_type": "code",
      "source": [
        "people = ['Ann','Brandon','Chen','David','Emily','Farook',\n",
        "          'Gagan','Hamish','Imran','Julio','Katherine','Lily']\n",
        "age = [21,12,32,45,37,18,28,52,5,40,48,15]\n",
        "weight = [55,35,77,68,70,60,72,69,18,65,82,48]\n",
        "height = [160,135,170,165,173,168,175,159,105,171,155,158]"
      ],
      "metadata": {
        "id": "MVz5xxEKDYQD"
      },
      "execution_count": null,
      "outputs": []
    },
    {
      "cell_type": "markdown",
      "source": [],
      "metadata": {
        "id": "Nl5XBAGiEY2a"
      }
    },
    {
      "cell_type": "code",
      "source": [],
      "metadata": {
        "id": "NWy4MaS7EFhW"
      },
      "execution_count": null,
      "outputs": []
    }
  ]
}