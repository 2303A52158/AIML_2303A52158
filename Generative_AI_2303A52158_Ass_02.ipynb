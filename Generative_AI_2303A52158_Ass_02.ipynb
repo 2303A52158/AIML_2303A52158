{
  "nbformat": 4,
  "nbformat_minor": 0,
  "metadata": {
    "colab": {
      "provenance": [],
      "authorship_tag": "ABX9TyPxobvRWwHU15tFp7wk7k7f",
      "include_colab_link": true
    },
    "kernelspec": {
      "name": "python3",
      "display_name": "Python 3"
    },
    "language_info": {
      "name": "python"
    }
  },
  "cells": [
    {
      "cell_type": "markdown",
      "metadata": {
        "id": "view-in-github",
        "colab_type": "text"
      },
      "source": [
        "<a href=\"https://colab.research.google.com/github/2303A52158/AIML_2303A52158/blob/main/Generative_AI_2303A52158_Ass_02.ipynb\" target=\"_parent\"><img src=\"https://colab.research.google.com/assets/colab-badge.svg\" alt=\"Open In Colab\"/></a>"
      ]
    },
    {
      "cell_type": "markdown",
      "source": [
        "**1. (1 ponto) Develop mathematical modeling for the given case study and find solution using\n",
        "Python**\n",
        "\n",
        "       Consider a chocolate manufacturing company that produces only two\n",
        "       types of chocolate i.e. A and B. Both the chocolates require Milk\n",
        "       and Choco only.\n",
        "       To manufacture each unit of A and B, the following quantities an required:\n",
        "       Each unit of A requires 1 unit of Milk and 3 units of Choco\n",
        "       Each unit of B requires 1 unit of Milk and 2 units of Choco\n",
        "      The company kitchen has a total of 5 units of Milk and 12 units of\n",
        "      Choco. On each sale, the company makes a profit of Rs 6 per anit A\n",
        "      sold and Rs 5 per unit B sold.\n",
        "      Now, the company wishes to maximize its profit. How many units of A\n",
        "      and B should it produce respectively?\n",
        "\n",
        "                          Figura 1: Case Study - 1"
      ],
      "metadata": {
        "id": "-vKvRUB6CPev"
      }
    },
    {
      "cell_type": "code",
      "source": [
        "c = [-6, -5]"
      ],
      "metadata": {
        "id": "I-v9oOygH0fZ"
      },
      "execution_count": null,
      "outputs": []
    },
    {
      "cell_type": "code",
      "source": [
        "A = [[1, 1],\n",
        "     [3, 2]]"
      ],
      "metadata": {
        "id": "r8ejdMIOHsjb"
      },
      "execution_count": null,
      "outputs": []
    },
    {
      "cell_type": "code",
      "source": [
        "b = [5, 12]"
      ],
      "metadata": {
        "id": "Uk_c_Nd8HwFs"
      },
      "execution_count": null,
      "outputs": []
    },
    {
      "cell_type": "code",
      "source": [
        "x_bounds = (0, None)\n",
        "y_bounds = (0, None)"
      ],
      "metadata": {
        "id": "Demvr1yeH3hU"
      },
      "execution_count": null,
      "outputs": []
    },
    {
      "cell_type": "code",
      "source": [
        "result = linprog(c, A_ub=A, b_ub=b, bounds=[x_bounds, y_bounds], method='highs')"
      ],
      "metadata": {
        "id": "IkYS5_MmH6iP"
      },
      "execution_count": null,
      "outputs": []
    },
    {
      "cell_type": "code",
      "source": [
        "if result.success:\n",
        "    x_optimal = result.x[0]\n",
        "    y_optimal = result.x[1]\n",
        "    max_profit = -result.fun\n",
        "\n",
        "    print(f\"Optimal units of Chocolate A: {int(x_optimal)}\")\n",
        "    print(f\"Optimal units of Chocolate B: {int(y_optimal)}\")\n",
        "    print(f\"Maximum Profit: Rs {int(max_profit)}\")\n",
        "else:\n",
        "    print(\"Optimization failed:\", result.message)"
      ],
      "metadata": {
        "colab": {
          "base_uri": "https://localhost:8080/"
        },
        "id": "2kefT_32H-jT",
        "outputId": "c208e794-ceb3-45e6-ef3a-d57700dc3ac1"
      },
      "execution_count": null,
      "outputs": [
        {
          "output_type": "stream",
          "name": "stdout",
          "text": [
            "Optimal units of Chocolate A: 2\n",
            "Optimal units of Chocolate B: 3\n",
            "Maximum Profit: Rs 27\n"
          ]
        }
      ]
    },
    {
      "cell_type": "markdown",
      "source": [
        "**2. (1 ponto) Develop mathematical modeling for the given case study and find solution using\n",
        "Python**\n",
        "\n",
        "           A farmer has recently acquired a 110 hectares piece of land. He has\n",
        "           decided to grow Wheat and barley on that land. Due to the quality\n",
        "           of the sun and the region's excellent climate, the entire production of\n",
        "           Wheat and Barley can be sold. He wants to know how to plant each\n",
        "           variety in the 110 hectares, given the costs, net profits and labor\n",
        "           requirements according to the data shown below:\n",
        "\n",
        "           Crop     Cost(Rs/Hec)     Profit(Price/Hec)    Man-days/Hec\n",
        "           Wheat         7000                50                10\n",
        "           Barley        2000                120               30\n",
        "\n",
        "           The farmer has a budget of Rs. 7,00,000 and availability of 1,200\n",
        "           man-days during the planning horizon. Find the optimal solution\n",
        "           an the optimal value.\n",
        "\n",
        "                              Figura 2: Case Study - 2"
      ],
      "metadata": {
        "id": "yXgl_htOIjSD"
      }
    },
    {
      "cell_type": "code",
      "source": [
        "from scipy.optimize import linprog"
      ],
      "metadata": {
        "id": "BRUaZL-yMM-x"
      },
      "execution_count": null,
      "outputs": []
    },
    {
      "cell_type": "code",
      "source": [
        "A = [[1, 1],\n",
        "    [7000, 2000],\n",
        "    [10, 30]]"
      ],
      "metadata": {
        "id": "ar4sgkeVMN90"
      },
      "execution_count": null,
      "outputs": []
    },
    {
      "cell_type": "code",
      "source": [
        "b = [110, 700000, 1200]"
      ],
      "metadata": {
        "id": "qCLuAE_DMT01"
      },
      "execution_count": null,
      "outputs": []
    },
    {
      "cell_type": "code",
      "source": [
        "bounds = [(0, None), (0, None)]"
      ],
      "metadata": {
        "id": "EynnZ282MXMU"
      },
      "execution_count": null,
      "outputs": []
    },
    {
      "cell_type": "code",
      "source": [
        "result = linprog(c, A_ub=A, b_ub=b, bounds=bounds, method='highs')"
      ],
      "metadata": {
        "id": "qg3o7P-iNHKJ"
      },
      "execution_count": null,
      "outputs": []
    },
    {
      "cell_type": "code",
      "source": [
        "if result.success:\n",
        "    x_optimal = result.x[0]\n",
        "    y_optimal = result.x[1]\n",
        "    max_profit = -result.fun\n",
        "\n",
        "    print(f\"Optimal hectares of Wheat to plant: {x_optimal:.2f}\")\n",
        "    print(f\"Optimal hectares of Barley to plant: {y_optimal:.2f}\")\n",
        "    print(f\"Maximum Profit: Rs {max_profit:.2f}\")\n",
        "else:\n",
        "    print(\"Optimization failed:\", result.message)"
      ],
      "metadata": {
        "colab": {
          "base_uri": "https://localhost:8080/"
        },
        "id": "i98uVqkGNLF2",
        "outputId": "86035dc1-2a13-4323-8c06-8baae7aabcf4"
      },
      "execution_count": null,
      "outputs": [
        {
          "output_type": "stream",
          "name": "stdout",
          "text": [
            "Optimal hectares of Wheat to plant: 97.89\n",
            "Optimal hectares of Barley to plant: 7.37\n",
            "Maximum Profit: Rs 5778.95\n"
          ]
        }
      ]
    }
  ]
}