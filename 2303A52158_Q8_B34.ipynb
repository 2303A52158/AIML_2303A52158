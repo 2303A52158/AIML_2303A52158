{
  "nbformat": 4,
  "nbformat_minor": 0,
  "metadata": {
    "colab": {
      "provenance": [],
      "authorship_tag": "ABX9TyOlWaXwYO1aMy+j5/a62QpC",
      "include_colab_link": true
    },
    "kernelspec": {
      "name": "python3",
      "display_name": "Python 3"
    },
    "language_info": {
      "name": "python"
    }
  },
  "cells": [
    {
      "cell_type": "markdown",
      "metadata": {
        "id": "view-in-github",
        "colab_type": "text"
      },
      "source": [
        "<a href=\"https://colab.research.google.com/github/2303A52158/AIML_2303A52158/blob/main/2303A52158_Q8_B34.ipynb\" target=\"_parent\"><img src=\"https://colab.research.google.com/assets/colab-badge.svg\" alt=\"Open In Colab\"/></a>"
      ]
    },
    {
      "cell_type": "code",
      "source": [
        "import pandas as pd\n",
        "from sklearn.model_selection import train_test_split\n",
        "from sklearn.ensemble import RandomForestClassifier\n",
        "\n",
        "# Load the dataset\n",
        "file_path = '/content/student-por.csv'\n",
        "data = pd.read_csv(file_path, delimiter=';')\n",
        "\n",
        "# Define low performance: students with final grade (G3) less than 10 are considered low performers\n",
        "data['Low_Performance'] = (data['G3'] < 10).astype(int)\n",
        "\n",
        "# Select features and target variable\n",
        "features = data.drop(['G3', 'Low_Performance'], axis=1)\n",
        "target = data['Low_Performance']\n",
        "\n",
        "# Convert categorical variables to dummy/indicator variables\n",
        "features = pd.get_dummies(features, drop_first=True)\n",
        "\n",
        "# Split into training and testing sets\n",
        "X_train, X_test, y_train, y_test = train_test_split(features, target, test_size=0.2, random_state=42)\n",
        "\n",
        "# Train a Random Forest Classifier to identify feature importance\n",
        "clf = RandomForestClassifier(random_state=42)\n",
        "clf.fit(X_train, y_train)\n",
        "\n",
        "# Extract feature importances\n",
        "feature_importances = pd.DataFrame({\n",
        "    'Feature': features.columns,\n",
        "    'Importance': clf.feature_importances_\n",
        "}).sort_values(by='Importance', ascending=False)\n",
        "\n",
        "# Get top 5 reasons\n",
        "top_5_reasons = feature_importances.head(5)\n",
        "print(\"Top 5 Reasons for Low Performance:\")\n",
        "print(top_5_reasons)\n"
      ],
      "metadata": {
        "colab": {
          "base_uri": "https://localhost:8080/"
        },
        "id": "9mko6xthkElw",
        "outputId": "f05aec1b-a418-4278-a5b5-8b6e61cdf976"
      },
      "execution_count": 11,
      "outputs": [
        {
          "output_type": "stream",
          "name": "stdout",
          "text": [
            "Top 5 Reasons for Low Performance:\n",
            "      Feature  Importance\n",
            "14         G2    0.267740\n",
            "13         G1    0.212598\n",
            "5    failures    0.051458\n",
            "15  school_MS    0.034056\n",
            "12   absences    0.031345\n"
          ]
        }
      ]
    },
    {
      "cell_type": "code",
      "source": [
        "# Count students with both parents employed\n",
        "both_employed_count = data[\n",
        "    (data['Mjob'] != 'at_home') & (data['Fjob'] != 'at_home')\n",
        "].shape[0]\n",
        "\n",
        "print(f\"Number of students with both parents employed: {both_employed_count}\")\n"
      ],
      "metadata": {
        "colab": {
          "base_uri": "https://localhost:8080/"
        },
        "id": "IOAsU7IwrHzl",
        "outputId": "dbd50cd2-5e8c-4e74-f240-c622e51ac1a7"
      },
      "execution_count": 12,
      "outputs": [
        {
          "output_type": "stream",
          "name": "stdout",
          "text": [
            "Number of students with both parents employed: 490\n"
          ]
        }
      ]
    },
    {
      "cell_type": "code",
      "source": [
        "# Count students with both parents employed\n",
        "both_employed_count = data[\n",
        "    (data['Mjob'] != 'at_home') & (data['Fjob'] != 'at_home')\n",
        "].shape[0]\n",
        "\n",
        "print(f\"Number of students with both parents employed: {both_employed_count}\")\n"
      ],
      "metadata": {
        "colab": {
          "base_uri": "https://localhost:8080/"
        },
        "id": "zMqGN1uwrLXN",
        "outputId": "4d98ac3d-c47f-4f27-8c56-594b2020171c"
      },
      "execution_count": 13,
      "outputs": [
        {
          "output_type": "stream",
          "name": "stdout",
          "text": [
            "Number of students with both parents employed: 490\n"
          ]
        }
      ]
    },
    {
      "cell_type": "code",
      "source": [
        "# Find the maximum and minimum age of students\n",
        "max_age = data['age'].max()\n",
        "min_age = data['age'].min()\n",
        "\n",
        "print(f\"The maximum age is: {max_age}\")\n",
        "print(f\"The minimum age is: {min_age}\")\n"
      ],
      "metadata": {
        "colab": {
          "base_uri": "https://localhost:8080/"
        },
        "id": "85fkhVpgrNFW",
        "outputId": "915e0aaa-2a9a-4eb7-e306-86851beb46d9"
      },
      "execution_count": 14,
      "outputs": [
        {
          "output_type": "stream",
          "name": "stdout",
          "text": [
            "The maximum age is: 22\n",
            "The minimum age is: 15\n"
          ]
        }
      ]
    },
    {
      "cell_type": "code",
      "source": [
        "# Find the most common medium of instruction\n",
        "most_used_medium = data['school'].value_counts().idxmax()\n",
        "most_used_medium_count = data['school'].value_counts().max()\n",
        "\n",
        "print(f\"The most used medium of instruction is: {most_used_medium}\")\n",
        "print(f\"Number of students in this medium: {most_used_medium_count}\")\n"
      ],
      "metadata": {
        "colab": {
          "base_uri": "https://localhost:8080/"
        },
        "id": "39jCJfbEsCGs",
        "outputId": "56199807-3d12-4bff-8959-6a8117005bdb"
      },
      "execution_count": 15,
      "outputs": [
        {
          "output_type": "stream",
          "name": "stdout",
          "text": [
            "The most used medium of instruction is: GP\n",
            "Number of students in this medium: 423\n"
          ]
        }
      ]
    },
    {
      "cell_type": "code",
      "source": [
        "import seaborn as sns\n",
        "import matplotlib.pyplot as plt\n",
        "from scipy.stats import ttest_ind\n",
        "\n",
        "# Group data by extracurricular activity participation\n",
        "group_yes = data[data['activities'] == 'yes']['G3']\n",
        "group_no = data[data['activities'] == 'no']['G3']\n",
        "\n",
        "# Calculate mean grades for each group\n",
        "mean_yes = group_yes.mean()\n",
        "mean_no = group_no.mean()\n",
        "\n",
        "# Perform a t-test to assess significance\n",
        "t_stat, p_value = ttest_ind(group_yes, group_no, equal_var=False)\n",
        "\n",
        "print(f\"Mean grade with extracurricular activities: {mean_yes:.2f}\")\n",
        "print(f\"Mean grade without extracurricular activities: {mean_no:.2f}\")\n",
        "print(f\"T-statistic: {t_stat:.2f}, P-value: {p_value:.4f}\")\n",
        "\n",
        "# Visualize the differences\n",
        "plt.figure(figsize=(8, 6))\n",
        "sns.boxplot(x='activities', y='G3', data=data)\n",
        "plt.title('Impact of Extracurricular Activities on Performance')\n",
        "plt.xlabel('Participation in Extracurricular Activities')\n",
        "plt.ylabel('Final Grade (G3)')\n",
        "plt.show()\n"
      ],
      "metadata": {
        "colab": {
          "base_uri": "https://localhost:8080/",
          "height": 616
        },
        "id": "YMeygbofsOtP",
        "outputId": "863bf6c1-1cd5-4ca8-99a1-15721e4b5741"
      },
      "execution_count": 16,
      "outputs": [
        {
          "output_type": "stream",
          "name": "stdout",
          "text": [
            "Mean grade with extracurricular activities: 12.10\n",
            "Mean grade without extracurricular activities: 11.72\n",
            "T-statistic: 1.52, P-value: 0.1280\n"
          ]
        },
        {
          "output_type": "display_data",
          "data": {
            "text/plain": [
              "<Figure size 800x600 with 1 Axes>"
            ],
            "image/png": "[encoded data removed]"
          },
          "metadata": {}
        }
      ]
    },
    {
      "cell_type": "code",
      "source": [
        "from sklearn.ensemble import RandomForestClassifier\n",
        "from sklearn.model_selection import train_test_split\n",
        "from sklearn.metrics import accuracy_score, classification_report, confusion_matrix\n",
        "import seaborn as sns\n",
        "import matplotlib.pyplot as plt\n",
        "\n",
        "# Define low performance: students with final grade (G3) less than 10 are considered low performers\n",
        "data['Low_Performance'] = (data['G3'] < 10).astype(int)\n",
        "\n",
        "# Features and target variable\n",
        "features = data.drop(['G3', 'Low_Performance'], axis=1)\n",
        "target = data['Low_Performance']\n",
        "\n",
        "# One-hot encode categorical variables\n",
        "features = pd.get_dummies(features, drop_first=True)\n",
        "\n",
        "# Split the data into training and testing sets\n",
        "X_train, X_test, y_train, y_test = train_test_split(features, target, test_size=0.2, random_state=42)\n",
        "\n",
        "# Initialize and train a Random Forest Classifier\n",
        "clf = RandomForestClassifier(random_state=42)\n",
        "clf.fit(X_train, y_train)\n",
        "\n",
        "# Predict on the test set\n",
        "y_pred = clf.predict(X_test)\n",
        "\n",
        "# Evaluate the model\n",
        "accuracy = accuracy_score(y_test, y_pred)\n",
        "print(f\"Accuracy: {accuracy:.2f}\")\n",
        "print(\"Classification Report:\")\n",
        "print(classification_report(y_test, y_pred))\n",
        "\n",
        "# Confusion Matrix\n",
        "cm = confusion_matrix(y_test, y_pred)\n",
        "sns.heatmap(cm, annot=True, fmt=\"d\", cmap=\"Blues\", xticklabels=[\"Low\", \"High\"], yticklabels=[\"Low\", \"High\"])\n",
        "plt.title(\"Confusion Matrix\")\n",
        "plt.xlabel(\"Predicted\")\n",
        "plt.ylabel(\"Actual\")\n",
        "plt.show()\n"
      ],
      "metadata": {
        "colab": {
          "base_uri": "https://localhost:8080/",
          "height": 663
        },
        "id": "4M58Fhddsub5",
        "outputId": "3ba75e10-186e-4c21-d7b2-4cb8604157e3"
      },
      "execution_count": 17,
      "outputs": [
        {
          "output_type": "stream",
          "name": "stdout",
          "text": [
            "Accuracy: 0.94\n",
            "Classification Report:\n",
            "              precision    recall  f1-score   support\n",
            "\n",
            "           0       0.96      0.97      0.97       115\n",
            "           1       0.77      0.67      0.71        15\n",
            "\n",
            "    accuracy                           0.94       130\n",
            "   macro avg       0.86      0.82      0.84       130\n",
            "weighted avg       0.94      0.94      0.94       130\n",
            "\n"
          ]
        },
        {
          "output_type": "display_data",
          "data": {
            "text/plain": [
              "<Figure size 640x480 with 2 Axes>"
            ],
            "image/png": "[encoded data removed]"
          },
          "metadata": {}
        }
      ]
    },
    {
      "cell_type": "code",
      "source": [],
      "metadata": {
        "id": "ZfE3GXGWs1We"
      },
      "execution_count": null,
      "outputs": []
    }
  ]
}