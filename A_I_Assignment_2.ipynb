{
  "nbformat": 4,
  "nbformat_minor": 0,
  "metadata": {
    "colab": {
      "provenance": [],
      "authorship_tag": "ABX9TyNapmebpsIv+1uBqWf9W9AL",
      "include_colab_link": true
    },
    "kernelspec": {
      "name": "python3",
      "display_name": "Python 3"
    },
    "language_info": {
      "name": "python"
    }
  },
  "cells": [
    {
      "cell_type": "markdown",
      "metadata": {
        "id": "view-in-github",
        "colab_type": "text"
      },
      "source": [
        "<a href=\"https://colab.research.google.com/github/2303A52158/AIML_2303A52158/blob/main/A_I_Assignment_2.ipynb\" target=\"_parent\"><img src=\"https://colab.research.google.com/assets/colab-badge.svg\" alt=\"Open In Colab\"/></a>"
      ]
    },
    {
      "cell_type": "markdown",
      "source": [
        "**Lab Exercise - Implement Breadth First, Depth First and A Search\n",
        "Algorithms**"
      ],
      "metadata": {
        "id": "DyEqe1nLDWpH"
      }
    },
    {
      "cell_type": "markdown",
      "source": [
        "**Part 1 – Implement Breadth First Search Algorithm using a Queue**\n"
      ],
      "metadata": {
        "id": "o6vyUZyDEAWm"
      }
    },
    {
      "cell_type": "markdown",
      "source": [
        "**1. Given a graph with adjacency list and a starting vertex and we have to traverse the graph.**\n",
        "\n",
        "**2. We will first print the value in the starting vertex,**\n",
        "\n",
        "**3. Continue to print the value of neighbors of the starting vertex and**\n",
        "\n",
        "**4. Next move on to the next level after completing the current level till all the vertices of\n",
        "the graph are printed.**\n"
      ],
      "metadata": {
        "id": "ekMy4uJXEL9H"
      }
    },
    {
      "cell_type": "code",
      "execution_count": null,
      "metadata": {
        "colab": {
          "base_uri": "https://localhost:8080/"
        },
        "id": "Q_aI1JXMEc4C",
        "outputId": "f6821995-078d-4186-e713-372c6dbd2c29"
      },
      "outputs": [
        {
          "output_type": "stream",
          "name": "stdout",
          "text": [
            "The Adjacent nodes of the diagram graph\n",
            "{0: [1, 3], 1: [0, 2, 3], 2: [4, 1, 5], 3: [4, 0, 1], 4: [2, 3, 5], 5: [2, 4]}\n"
          ]
        }
      ],
      "source": [
        "from queue import Queue\n",
        "graph ={0:[1,3],1:[0,2,3],2:[4,1,5],3:[4,0,1],4:[2,3,5],5:[2,4]}\n",
        "print(\"The Adjacent nodes of the diagram graph\")\n",
        "print(graph)"
      ]
    },
    {
      "cell_type": "code",
      "source": [
        "def bfs(graph, source):\n",
        "  Q = Queue()\n",
        "  visited_vertices = set()\n",
        "  Q.put(source)\n",
        "  visited_vertices.update({0})\n",
        "  while not Q.empty():\n",
        "    vertex = Q.get()\n",
        "    print(vertex, end=\" --> \")\n",
        "    for u in graph[vertex]:\n",
        "      if u not in visited_vertices:\n",
        "        Q.put(u)\n",
        "        visited_vertices.update({u})\n",
        "print(\"BFS traversal of the diagram\")\n",
        "bfs(graph, 0)"
      ],
      "metadata": {
        "colab": {
          "base_uri": "https://localhost:8080/"
        },
        "id": "QqY5imA9JjO4",
        "outputId": "1af4f3f9-34d3-44eb-bcb0-184470565e2e"
      },
      "execution_count": null,
      "outputs": [
        {
          "output_type": "stream",
          "name": "stdout",
          "text": [
            "BFS traversal of the diagram\n",
            "0 --> 1 --> 3 --> 2 --> 4 --> 5 --> "
          ]
        }
      ]
    },
    {
      "cell_type": "markdown",
      "source": [
        "**Part 2 – Implement Depth First Search Algorithm using a Stack**"
      ],
      "metadata": {
        "id": "5wz8eQccEqe1"
      }
    },
    {
      "cell_type": "markdown",
      "source": [
        "**0.1 DFS Stack implementations steps to be followed:**\n",
        "**1. Start at the root node and push it onto the stack.**\n",
        "\n",
        "**2. Check for any adjacent nodes of the tree and select one node.**\n",
        "\n",
        "**3. Traverse the entire branch of the selected node and push all the nodes into the stack.**\n",
        "\n",
        "**4. Upon reaching the end of a branch (no more adjacent nodes) ie nth leaf node, move\n",
        "back by a single step and look for adjacent nodes of the n-1th node.**\n",
        "\n",
        "**5. If there are adjacent nodes for the n-1th node, traverse those branches and push nodes\n",
        "onto the stack.**"
      ],
      "metadata": {
        "id": "uEoVk-A3E294"
      }
    },
    {
      "cell_type": "code",
      "source": [
        "graph1= {\n",
        "    'A' : ['B','S'],\n",
        "    'B' : ['A'],\n",
        "    'C' : ['S','D','F','E'],\n",
        "    'D' : ['C','E'],\n",
        "    'E' : ['C','H'],\n",
        "    'F' : ['C','G'],\n",
        "    'G' : ['S','F','H'],\n",
        "    'H' : ['G','E'],\n",
        "    'S' : ['A','C','G'],\n",
        "}"
      ],
      "metadata": {
        "id": "j3zJZk2B6lpk"
      },
      "execution_count": null,
      "outputs": []
    },
    {
      "cell_type": "code",
      "source": [
        "def dfs(graph,node,visited):\n",
        "  if node not in visited:\n",
        "    visited.append(node)\n",
        "    for k in graph[node]:\n",
        "      dfs(graph,k,visited)\n",
        "    return visited\n",
        "visited=dfs(graph1,'A',[])\n",
        "print(visited)"
      ],
      "metadata": {
        "colab": {
          "base_uri": "https://localhost:8080/"
        },
        "id": "cJebRqNH_-Kl",
        "outputId": "9cf80152-7b4c-408e-e562-9680d2df119e"
      },
      "execution_count": null,
      "outputs": [
        {
          "output_type": "stream",
          "name": "stdout",
          "text": [
            "['A', 'B', 'S', 'C', 'D', 'E', 'H', 'G', 'F']\n"
          ]
        }
      ]
    },
    {
      "cell_type": "markdown",
      "source": [
        "**Part 3 – Implement A* Algorithm using Numpy**"
      ],
      "metadata": {
        "id": "DrVTJvLkFnTB"
      }
    },
    {
      "cell_type": "markdown",
      "source": [
        "**1. A*Algorithm (pronounced as A-star) is a combination of ‘branch and bound search\n",
        "algorithm’ and ‘best search algorithm’ combined with the dynamic programming principle.\n",
        "2. The A* Algorithm is well-known because it is used for locating path and graph traversals.\n",
        "3. This algorithm is used in numerous online maps and games.\n",
        "4. It uses a heuristic or evaluation function usually denoted by f(X) to determine the order\n",
        "in which the search visits nodes in the tree.**"
      ],
      "metadata": {
        "id": "P95dDezCFtC2"
      }
    },
    {
      "cell_type": "code",
      "source": [
        "from copy import deepcopy\n",
        "import numpy as np\n",
        "import time\n",
        "\n",
        "def bestsolution(state):\n",
        "    bestsol = np.array([], int).reshape(-1, 9)\n",
        "    count = len(state) - 1\n",
        "    while count != -1:\n",
        "        bestsol = np.insert(bestsol, 0, state[count]['puzzle'], 0)\n",
        "        count = (state[count]['parent'])\n",
        "    return bestsol.reshape(-1, 3, 3)\n",
        "\n",
        "\n",
        "\n",
        "def all(checkarray):\n",
        "    set=[]\n",
        "    for it in set:\n",
        "        for checkarray in it:\n",
        "            return 1\n",
        "        else:\n",
        "            return 0\n",
        "\n",
        "\n",
        "\n",
        "def misplaced_tiles(puzzle,goal):\n",
        "    mscost = np.sum(puzzle != goal) - 1\n",
        "    return mscost if mscost > 0 else 0\n",
        "\n",
        "\n",
        "def coordinates(puzzle):\n",
        "    pos = np.array(range(9))\n",
        "    for p, q in enumerate(puzzle):\n",
        "        pos[q] = p\n",
        "    return pos\n",
        "\n",
        "\n",
        "def evaluvate_misplaced(puzzle, goal):\n",
        "    steps = np.array([('up', [0, 1, 2], -3),('down', [6, 7, 8],  3),('left', [0, 3, 6], -1),('right', [2, 5, 8],  1)],\n",
        "                dtype =  [('move',  str, 1),('position', list),('head', int)])\n",
        "\n",
        "    dtstate = [('puzzle',  list),('parent', int),('gn',  int),('hn',  int)]\n",
        "\n",
        "    costg = coordinates(goal)\n",
        "\n",
        "\n",
        "    parent = -1\n",
        "    gn = 0\n",
        "    hn = misplaced_tiles(coordinates(puzzle), costg)\n",
        "    state = np.array([(puzzle, parent, gn, hn)], dtstate)\n",
        "\n",
        "    dtpriority = [('position', int),('fn', int)]\n",
        "\n",
        "    priority = np.array([(0, hn)], dtpriority)\n",
        "\n",
        "    while 1:\n",
        "        priority = np.sort(priority, kind='mergesort', order=['fn', 'position'])\n",
        "        position, fn = priority[0]\n",
        "        priority = np.delete(priority, 0, 0)\n",
        "        puzzle, parent, gn, hn = state[position]\n",
        "        puzzle = np.array(puzzle)\n",
        "\n",
        "        blank = int(np.where(puzzle == 0)[0])\n",
        "\n",
        "        gn = gn + 1\n",
        "        c = 1\n",
        "        start_time = time.time()\n",
        "        for s in steps:\n",
        "            c = c + 1\n",
        "            if blank not in s['position']:\n",
        "                openstates = deepcopy(puzzle)\n",
        "                openstates[blank], openstates[blank + s['head']] = openstates[blank + s['head']], openstates[blank]\n",
        "\n",
        "                if ~(np.all(list(state['puzzle']) == openstates, 1)).any():\n",
        "                    end_time = time.time()\n",
        "                    if (( end_time - start_time ) > 2):\n",
        "                        print(\" The 8 puzzle is unsolvable \\n\")\n",
        "                        break\n",
        "\n",
        "                    hn = misplaced_tiles(coordinates(openstates), costg)\n",
        "\n",
        "                    q = np.array([(openstates, position, gn, hn)], dtstate)\n",
        "                    state = np.append(state, q, 0)\n",
        "\n",
        "                    fn = gn + hn\n",
        "\n",
        "                    q = np.array([(len(state) - 1, fn)], dtpriority)\n",
        "                    priority = np.append(priority, q, 0)\n",
        "\n",
        "                    if np.array_equal(openstates, goal):\n",
        "                        print(' The 8 puzzle is solvable \\n')\n",
        "                        return state, len(priority)\n",
        "\n",
        "    return state, len(priority)\n",
        "\n",
        "puzzle = []\n",
        "\n",
        "puzzle.append(2)\n",
        "puzzle.append(8)\n",
        "puzzle.append(3)\n",
        "puzzle.append(1)\n",
        "puzzle.append(6)\n",
        "puzzle.append(4)\n",
        "puzzle.append(7)\n",
        "puzzle.append(0)\n",
        "puzzle.append(5)\n",
        "\n",
        "#goal state\n",
        "goal = []\n",
        "\n",
        "goal.append(1)\n",
        "goal.append(2)\n",
        "goal.append(3)\n",
        "goal.append(8)\n",
        "goal.append(0)\n",
        "goal.append(4)\n",
        "goal.append(7)\n",
        "goal.append(6)\n",
        "goal.append(5)\n",
        "\n",
        "\n",
        "state, visited = evaluvate_misplaced(puzzle, goal)\n",
        "bestpath = bestsolution(state)\n",
        "print(str(bestpath).replace('[', ' ').replace(']', ''))\n",
        "totalmoves = len(bestpath) - 1\n",
        "print('\\nSteps to reach goal:',totalmoves)\n",
        "visit = len(state) - visited\n",
        "print('Total nodes visited: ',visit, \"\\n\")"
      ],
      "metadata": {
        "colab": {
          "base_uri": "https://localhost:8080/"
        },
        "id": "CvSkeOMvA_J9",
        "outputId": "7754322e-994a-4a6c-be33-19c97071c7e8"
      },
      "execution_count": 9,
      "outputs": [
        {
          "output_type": "stream",
          "name": "stdout",
          "text": [
            " The 8 puzzle is solvable \n",
            "\n",
            "   2 8 3\n",
            "   1 6 4\n",
            "   7 0 5\n",
            "\n",
            "   2 8 3\n",
            "   1 0 4\n",
            "   7 6 5\n",
            "\n",
            "   2 0 3\n",
            "   1 8 4\n",
            "   7 6 5\n",
            "\n",
            "   0 2 3\n",
            "   1 8 4\n",
            "   7 6 5\n",
            "\n",
            "   1 2 3\n",
            "   0 8 4\n",
            "   7 6 5\n",
            "\n",
            "   1 2 3\n",
            "   8 0 4\n",
            "   7 6 5\n",
            "\n",
            "Steps to reach goal: 5\n",
            "Total nodes visited:  6 \n",
            "\n"
          ]
        },
        {
          "output_type": "stream",
          "name": "stderr",
          "text": [
            "<ipython-input-9-83f201f141d7>:62: DeprecationWarning: Conversion of an array with ndim > 0 to a scalar is deprecated, and will error in future. Ensure you extract a single element from your array before performing this operation. (Deprecated NumPy 1.25.)\n",
            "  blank = int(np.where(puzzle == 0)[0])\n"
          ]
        }
      ]
    }
  ]
}