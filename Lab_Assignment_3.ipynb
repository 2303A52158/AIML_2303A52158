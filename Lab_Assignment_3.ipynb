{
  "cells": [
    {
      "cell_type": "markdown",
      "metadata": {
        "id": "view-in-github",
        "colab_type": "text"
      },
      "source": [
        "<a href=\"https://colab.research.google.com/github/2303A52158/AIML_2303A52158/blob/main/Lab_Assignment_3.ipynb\" target=\"_parent\"><img src=\"https://colab.research.google.com/assets/colab-badge.svg\" alt=\"Open In Colab\"/></a>"
      ]
    },
    {
      "cell_type": "markdown",
      "id": "126d57d5",
      "metadata": {
        "id": "126d57d5"
      },
      "source": [
        "## Implement AI Game Strategy using Adversarial Search Algorithms\n"
      ]
    },
    {
      "cell_type": "markdown",
      "id": "f0a894b4",
      "metadata": {
        "id": "f0a894b4"
      },
      "source": [
        "## Part-01: List of Tasks to Perform\n",
        "\n",
        "1. Install the Python Libraries for Game Strategy\n",
        "2. Implement a Game Class Constructor with - actions, is_terminal, result, utility\n",
        "3. Implement a Player Game using game class function"
      ]
    },
    {
      "cell_type": "code",
      "execution_count": null,
      "id": "2858d274",
      "metadata": {
        "id": "2858d274"
      },
      "outputs": [],
      "source": [
        "from collections import namedtuple, Counter, defaultdict\n",
        "import random\n",
        "import math\n",
        "import functools\n",
        "cache = functools.lru_cache(10**6)"
      ]
    },
    {
      "cell_type": "code",
      "execution_count": null,
      "id": "1af90cb7",
      "metadata": {
        "id": "1af90cb7"
      },
      "outputs": [],
      "source": [
        "class Game:\n",
        "\n",
        "    def actions(self, state):\n",
        "        raise NotImplementedError\n",
        "\n",
        "    def result(self, state, move):\n",
        "        raise NotImplementedError\n",
        "\n",
        "    def is_terminal(self, state):\n",
        "        return not self.actions(state)\n",
        "\n",
        "    def utility(self, state, player):\n",
        "        raise NotImplementedError"
      ]
    },
    {
      "cell_type": "code",
      "execution_count": null,
      "id": "fc3e467e",
      "metadata": {
        "id": "fc3e467e"
      },
      "outputs": [],
      "source": [
        "def play_game(game, strategies: dict, verbose=False):\n",
        "\n",
        "    state = game.initial\n",
        "    while not game.is_terminal(state):\n",
        "        player = state.to_move\n",
        "        move = strategies[player](game, state)\n",
        "        state = game.result(state, move)\n",
        "        if verbose:\n",
        "            print('Player', player, 'move:', move)\n",
        "            print(state)\n",
        "    return state"
      ]
    },
    {
      "cell_type": "markdown",
      "id": "ee4a50ba",
      "metadata": {
        "id": "ee4a50ba"
      },
      "source": [
        "## Part-02: Implementation of Game Strategy Algorithm\n",
        "1. MiniMax Tree\n",
        "2. Alpha-Beta Search Algorithm"
      ]
    },
    {
      "cell_type": "code",
      "execution_count": null,
      "id": "41bf6fe8",
      "metadata": {
        "id": "41bf6fe8"
      },
      "outputs": [],
      "source": [
        "def minimax_search(game, state):\n",
        "\n",
        "    player = state.to_move\n",
        "    def max_value(state):\n",
        "        if game.is_terminal(state):\n",
        "            return game.utility(state, player), None\n",
        "        v, move = -infinity, None\n",
        "        for a in game.actions(state):\n",
        "            v2, _ = min_value(game.result(state, a))\n",
        "            if v2 > v:\n",
        "                v, move = v2, a\n",
        "        return v, move\n",
        "\n",
        "    def min_value(state):\n",
        "        if game.is_terminal(state):\n",
        "            return game.utility(state, player), None\n",
        "        v, move = +infinity, None\n",
        "        for a in game.actions(state):\n",
        "            v2, _ = max_value(game.result(state, a))\n",
        "            if v2 < v:\n",
        "                v, move = v2, a\n",
        "        return v, move\n",
        "\n",
        "    return max_value(state)\n",
        "\n",
        "infinity = math.inf"
      ]
    },
    {
      "cell_type": "code",
      "execution_count": null,
      "id": "1b54aa9b",
      "metadata": {
        "id": "1b54aa9b"
      },
      "outputs": [],
      "source": [
        "def alphabeta_search(game, state):\n",
        "\n",
        "    player = state.to_move\n",
        "    def max_value(state, alpha, beta):\n",
        "        if game.is_terminal(state):\n",
        "            return game.utility(state, player), None\n",
        "        v, move = -infinity, None\n",
        "        for a in game.actions(state):\n",
        "            v2, _ = min_value(game.result(state, a), alpha, beta)\n",
        "            if v2 > v:\n",
        "                v, move = v2, a\n",
        "                alpha = max(alpha, v)\n",
        "            if v >= beta:\n",
        "                return v, move\n",
        "        return v, move\n",
        "\n",
        "    def min_value(state, alpha, beta):\n",
        "        if game.is_terminal(state):\n",
        "            return game.utility(state, player), None\n",
        "        v, move = +infinity, None\n",
        "        for a in game.actions(state):\n",
        "            v2, _ = max_value(game.result(state, a), alpha, beta)\n",
        "            if v2 < v:\n",
        "                v, move = v2, a\n",
        "                beta = min(beta, v)\n",
        "            if v <= alpha:\n",
        "                return v, move\n",
        "        return v, move\n",
        "\n",
        "    return max_value(state, -infinity, +infinity)"
      ]
    },
    {
      "cell_type": "markdown",
      "id": "89ee8c76",
      "metadata": {
        "id": "89ee8c76"
      },
      "source": [
        "## Part-03: Implement the Game Strategy using TicTacToe"
      ]
    },
    {
      "cell_type": "code",
      "execution_count": null,
      "id": "2b51f801",
      "metadata": {
        "id": "2b51f801"
      },
      "outputs": [],
      "source": [
        "class TicTacToe(Game):\n",
        "\n",
        "    def __init__(self, height=3, width=3, k=3):\n",
        "        self.k = k # k in a row\n",
        "        self.squares = {(x, y) for x in range(width) for y in range(height)}\n",
        "        self.initial = Board(height=height, width=width, to_move='X', utility=0)\n",
        "\n",
        "    def actions(self, board):\n",
        "\n",
        "        return self.squares - set(board)\n",
        "\n",
        "    def result(self, board, square):\n",
        "\n",
        "        player = board.to_move\n",
        "        board = board.new({square: player}, to_move=('O' if player == 'X' else 'X'))\n",
        "        win = k_in_row(board, player, square, self.k)\n",
        "        board.utility = (0 if not win else +1 if player == 'X' else -1)\n",
        "        return board\n",
        "\n",
        "    def utility(self, board, player):\n",
        "\n",
        "        return board.utility if player == 'X' else -board.utility\n",
        "\n",
        "    def is_terminal(self, board):\n",
        "\n",
        "        return board.utility != 0 or len(self.squares) == len(board)\n",
        "\n",
        "    def display(self, board): print(board)\n",
        "\n",
        "\n",
        "def k_in_row(board, player, square, k):\n",
        "\n",
        "    def in_row(x, y, dx, dy): return 0 if board[x, y] != player else 1 + in_row(x + dx, y + dy, dx, dy)\n",
        "    return any(in_row(*square, dx, dy) + in_row(*square, -dx, -dy)-1>=k\n",
        "               for (dx, dy) in ((0, 1), (1, 0), (1, 1), (1, -1)))\n"
      ]
    },
    {
      "cell_type": "code",
      "execution_count": null,
      "id": "2425de7b",
      "metadata": {
        "id": "2425de7b"
      },
      "outputs": [],
      "source": [
        "class Board(defaultdict):\n",
        "\n",
        "    empty = '.'\n",
        "    off = '#'\n",
        "\n",
        "    def __init__(self, width=8, height=8, to_move=None, **kwds):\n",
        "        self.__dict__.update(width=width, height=height, to_move=to_move, **kwds)\n",
        "\n",
        "    def new(self, changes: dict, **kwds) -> 'Board':\n",
        "\n",
        "        board = Board(width=self.width, height=self.height, **kwds)\n",
        "        board.update(self)\n",
        "        board.update(changes)\n",
        "        return board\n",
        "\n",
        "    def __missing__(self, loc):\n",
        "        x, y = loc\n",
        "        if 0 <= x < self.width and 0 <= y < self.height:\n",
        "            return self.empty\n",
        "        else:\n",
        "            return self.off\n",
        "\n",
        "    def __hash__(self):\n",
        "        return hash(tuple(sorted(self.items()))) + hash(self.to_move)\n",
        "\n",
        "    def __repr__(self):\n",
        "        def row(y): return ' '.join(self[x, y] for x in range(self.width))\n",
        "        return '\\n'.join(map(row, range(self.height))) +  '\\n'"
      ]
    },
    {
      "cell_type": "code",
      "execution_count": null,
      "id": "49e7b830",
      "metadata": {
        "id": "49e7b830"
      },
      "outputs": [],
      "source": [
        "def random_player(game, state): return random.choice(list(game.actions(state)))\n",
        "\n",
        "def player(search_algorithm):\n",
        "    return lambda game, state: search_algorithm(game, state)[1]"
      ]
    },
    {
      "cell_type": "markdown",
      "id": "f1f77e18",
      "metadata": {
        "id": "f1f77e18"
      },
      "source": [
        "## Evaluate the Game Strategy using TicTokToe"
      ]
    },
    {
      "cell_type": "code",
      "execution_count": null,
      "id": "f3558295",
      "metadata": {
        "scrolled": true,
        "id": "f3558295",
        "outputId": "17bc03df-c483-4531-f43a-46ff9e39c189",
        "colab": {
          "base_uri": "https://localhost:8080/"
        }
      },
      "outputs": [
        {
          "output_type": "stream",
          "name": "stdout",
          "text": [
            "Player X move: (1, 0)\n",
            ". X .\n",
            ". . .\n",
            ". . .\n",
            "\n",
            "Player O move: (1, 2)\n",
            ". X .\n",
            ". . .\n",
            ". O .\n",
            "\n",
            "Player X move: (2, 2)\n",
            ". X .\n",
            ". . .\n",
            ". O X\n",
            "\n",
            "Player O move: (0, 0)\n",
            "O X .\n",
            ". . .\n",
            ". O X\n",
            "\n",
            "Player X move: (0, 1)\n",
            "O X .\n",
            "X . .\n",
            ". O X\n",
            "\n",
            "Player O move: (1, 1)\n",
            "O X .\n",
            "X O .\n",
            ". O X\n",
            "\n",
            "Player X move: (0, 2)\n",
            "O X .\n",
            "X O .\n",
            "X O X\n",
            "\n",
            "Player O move: (2, 0)\n",
            "O X O\n",
            "X O .\n",
            "X O X\n",
            "\n",
            "Player X move: (2, 1)\n",
            "O X O\n",
            "X O X\n",
            "X O X\n",
            "\n"
          ]
        },
        {
          "output_type": "execute_result",
          "data": {
            "text/plain": [
              "0"
            ]
          },
          "metadata": {},
          "execution_count": 16
        }
      ],
      "source": [
        "play_game(TicTacToe(), dict(X=random_player, O=player(alphabeta_search)), verbose=True).utility"
      ]
    },
    {
      "cell_type": "code",
      "execution_count": null,
      "id": "80d941f6",
      "metadata": {
        "id": "80d941f6",
        "outputId": "71e98e13-3e6d-46bf-f81d-f2d593d1639b",
        "colab": {
          "base_uri": "https://localhost:8080/"
        }
      },
      "outputs": [
        {
          "output_type": "stream",
          "name": "stdout",
          "text": [
            "Player X move: (0, 1)\n",
            ". . .\n",
            "X . .\n",
            ". . .\n",
            "\n",
            "Player O move: (2, 1)\n",
            ". . .\n",
            "X . O\n",
            ". . .\n",
            "\n",
            "Player X move: (1, 2)\n",
            ". . .\n",
            "X . O\n",
            ". X .\n",
            "\n",
            "Player O move: (0, 0)\n",
            "O . .\n",
            "X . O\n",
            ". X .\n",
            "\n",
            "Player X move: (1, 1)\n",
            "O . .\n",
            "X X O\n",
            ". X .\n",
            "\n",
            "Player O move: (1, 0)\n",
            "O O .\n",
            "X X O\n",
            ". X .\n",
            "\n",
            "Player X move: (2, 0)\n",
            "O O X\n",
            "X X O\n",
            ". X .\n",
            "\n",
            "Player O move: (0, 2)\n",
            "O O X\n",
            "X X O\n",
            "O X .\n",
            "\n",
            "Player X move: (2, 2)\n",
            "O O X\n",
            "X X O\n",
            "O X X\n",
            "\n"
          ]
        },
        {
          "output_type": "execute_result",
          "data": {
            "text/plain": [
              "0"
            ]
          },
          "metadata": {},
          "execution_count": 17
        }
      ],
      "source": [
        "play_game(TicTacToe(), dict(X=player(alphabeta_search), O=player(minimax_search)), verbose=True).utility"
      ]
    }
  ],
  "metadata": {
    "kernelspec": {
      "display_name": "Python 3 (ipykernel)",
      "language": "python",
      "name": "python3"
    },
    "language_info": {
      "codemirror_mode": {
        "name": "ipython",
        "version": 3
      },
      "file_extension": ".py",
      "mimetype": "text/x-python",
      "name": "python",
      "nbconvert_exporter": "python",
      "pygments_lexer": "ipython3",
      "version": "3.9.15"
    },
    "colab": {
      "provenance": [],
      "name": "Lab Assignment 3.ipynb",
      "include_colab_link": true
    }
  },
  "nbformat": 4,
  "nbformat_minor": 5
}